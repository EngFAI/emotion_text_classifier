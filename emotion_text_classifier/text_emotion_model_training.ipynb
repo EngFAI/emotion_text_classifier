{
  "nbformat": 4,
  "nbformat_minor": 0,
  "metadata": {
    "colab": {
      "provenance": [],
      "gpuType": "T4"
    },
    "kernelspec": {
      "name": "python3",
      "display_name": "Python 3"
    },
    "language_info": {
      "name": "python"
    },
    "accelerator": "GPU"
  },
  "cells": [
    {
      "cell_type": "markdown",
      "source": [
        "# **1: Install Libraries and Import Modules**"
      ],
      "metadata": {
        "id": "lmu_ALZmSj4D"
      }
    },
    {
      "cell_type": "code",
      "source": [
        "# Install required libraries\n",
        "!pip install nltk scikit-learn pandas numpy matplotlib seaborn\n",
        "\n",
        "# Import libraries\n",
        "import pandas as pd\n",
        "import numpy as np\n",
        "import pickle\n",
        "import re\n",
        "import nltk\n",
        "import matplotlib.pyplot as plt\n",
        "import seaborn as sns\n",
        "from nltk.tokenize import word_tokenize\n",
        "from nltk.corpus import stopwords\n",
        "from nltk.stem import WordNetLemmatizer\n",
        "from sklearn.model_selection import train_test_split, GridSearchCV\n",
        "from sklearn.feature_extraction.text import TfidfVectorizer\n",
        "from sklearn.linear_model import LogisticRegression\n",
        "from sklearn.metrics import classification_report, confusion_matrix, accuracy_score\n",
        "from sklearn.pipeline import Pipeline\n",
        "import os\n",
        "from google.colab import drive\n",
        "import time\n",
        "\n",
        "# Download necessary NLTK resources\n",
        "nltk.download('punkt')\n",
        "nltk.download('punkt_tab')\n",
        "nltk.download('stopwords')\n",
        "nltk.download('wordnet')\n",
        "\n",
        "\n"
      ],
      "metadata": {
        "colab": {
          "base_uri": "https://localhost:8080/"
        },
        "id": "mzEoY6ZkSqRC",
        "outputId": "6dd0248c-bed0-4a63-8644-0c1b29228e23"
      },
      "execution_count": 1,
      "outputs": [
        {
          "output_type": "stream",
          "name": "stdout",
          "text": [
            "Requirement already satisfied: nltk in /usr/local/lib/python3.11/dist-packages (3.9.1)\n",
            "Requirement already satisfied: scikit-learn in /usr/local/lib/python3.11/dist-packages (1.6.1)\n",
            "Requirement already satisfied: pandas in /usr/local/lib/python3.11/dist-packages (2.2.2)\n",
            "Requirement already satisfied: numpy in /usr/local/lib/python3.11/dist-packages (2.0.2)\n",
            "Requirement already satisfied: matplotlib in /usr/local/lib/python3.11/dist-packages (3.10.0)\n",
            "Requirement already satisfied: seaborn in /usr/local/lib/python3.11/dist-packages (0.13.2)\n",
            "Requirement already satisfied: click in /usr/local/lib/python3.11/dist-packages (from nltk) (8.1.8)\n",
            "Requirement already satisfied: joblib in /usr/local/lib/python3.11/dist-packages (from nltk) (1.4.2)\n",
            "Requirement already satisfied: regex>=2021.8.3 in /usr/local/lib/python3.11/dist-packages (from nltk) (2024.11.6)\n",
            "Requirement already satisfied: tqdm in /usr/local/lib/python3.11/dist-packages (from nltk) (4.67.1)\n",
            "Requirement already satisfied: scipy>=1.6.0 in /usr/local/lib/python3.11/dist-packages (from scikit-learn) (1.14.1)\n",
            "Requirement already satisfied: threadpoolctl>=3.1.0 in /usr/local/lib/python3.11/dist-packages (from scikit-learn) (3.6.0)\n",
            "Requirement already satisfied: python-dateutil>=2.8.2 in /usr/local/lib/python3.11/dist-packages (from pandas) (2.8.2)\n",
            "Requirement already satisfied: pytz>=2020.1 in /usr/local/lib/python3.11/dist-packages (from pandas) (2025.2)\n",
            "Requirement already satisfied: tzdata>=2022.7 in /usr/local/lib/python3.11/dist-packages (from pandas) (2025.2)\n",
            "Requirement already satisfied: contourpy>=1.0.1 in /usr/local/lib/python3.11/dist-packages (from matplotlib) (1.3.1)\n",
            "Requirement already satisfied: cycler>=0.10 in /usr/local/lib/python3.11/dist-packages (from matplotlib) (0.12.1)\n",
            "Requirement already satisfied: fonttools>=4.22.0 in /usr/local/lib/python3.11/dist-packages (from matplotlib) (4.56.0)\n",
            "Requirement already satisfied: kiwisolver>=1.3.1 in /usr/local/lib/python3.11/dist-packages (from matplotlib) (1.4.8)\n",
            "Requirement already satisfied: packaging>=20.0 in /usr/local/lib/python3.11/dist-packages (from matplotlib) (24.2)\n",
            "Requirement already satisfied: pillow>=8 in /usr/local/lib/python3.11/dist-packages (from matplotlib) (11.1.0)\n",
            "Requirement already satisfied: pyparsing>=2.3.1 in /usr/local/lib/python3.11/dist-packages (from matplotlib) (3.2.3)\n",
            "Requirement already satisfied: six>=1.5 in /usr/local/lib/python3.11/dist-packages (from python-dateutil>=2.8.2->pandas) (1.17.0)\n"
          ]
        },
        {
          "output_type": "stream",
          "name": "stderr",
          "text": [
            "[nltk_data] Downloading package punkt to /root/nltk_data...\n",
            "[nltk_data]   Unzipping tokenizers/punkt.zip.\n",
            "[nltk_data] Downloading package punkt_tab to /root/nltk_data...\n",
            "[nltk_data]   Unzipping tokenizers/punkt_tab.zip.\n",
            "[nltk_data] Downloading package stopwords to /root/nltk_data...\n",
            "[nltk_data]   Unzipping corpora/stopwords.zip.\n",
            "[nltk_data] Downloading package wordnet to /root/nltk_data...\n"
          ]
        },
        {
          "output_type": "execute_result",
          "data": {
            "text/plain": [
              "True"
            ]
          },
          "metadata": {},
          "execution_count": 1
        }
      ]
    },
    {
      "cell_type": "markdown",
      "source": [
        "# **2: Mount Google Drive and Load Resources**"
      ],
      "metadata": {
        "id": "D_OhL2x5TC6k"
      }
    },
    {
      "cell_type": "code",
      "source": [
        "# Mount Google Drive\n",
        "drive.mount('/content/drive')\n",
        "\n",
        "print(\"Libraries installed and resources loaded successfully!\")"
      ],
      "metadata": {
        "id": "cE3zNDZdTEt2",
        "colab": {
          "base_uri": "https://localhost:8080/"
        },
        "outputId": "f3d51355-0010-4e9b-c610-ac49460ca106"
      },
      "execution_count": 2,
      "outputs": [
        {
          "output_type": "stream",
          "name": "stdout",
          "text": [
            "Mounted at /content/drive\n",
            "Libraries installed and resources loaded successfully!\n"
          ]
        }
      ]
    },
    {
      "cell_type": "markdown",
      "source": [
        "# **3: Load and Explore Data**"
      ],
      "metadata": {
        "id": "83w6YqCvTIJF"
      }
    },
    {
      "cell_type": "code",
      "source": [
        "# Define data loading function with error handling\n",
        "def load_data(file_path):\n",
        "    \"\"\"Load the emotion dataset from Google Drive with validation\"\"\"\n",
        "    try:\n",
        "        print(f\"Loading data from {file_path}...\")\n",
        "        data = pd.read_csv(file_path)\n",
        "\n",
        "        # Validate data structure\n",
        "        required_columns = ['text', 'emotion']\n",
        "        missing_columns = [col for col in required_columns if col not in data.columns]\n",
        "        if missing_columns:\n",
        "            raise ValueError(f\"Data file missing required columns: {missing_columns}\")\n",
        "\n",
        "        # Check for null values\n",
        "        null_counts = data[required_columns].isnull().sum()\n",
        "        if null_counts.any():\n",
        "            print(f\"Warning: Found null values in the dataset:\\n{null_counts}\")\n",
        "            print(\"Removing rows with null values...\")\n",
        "            data = data.dropna(subset=required_columns)\n",
        "\n",
        "        return data\n",
        "    except Exception as e:\n",
        "        print(f\"Error loading data: {str(e)}\")\n",
        "        raise\n",
        "\n",
        "# Specify the path to your dataset in Google Drive\n",
        "data_path = '/content/drive/MyDrive/dataset/emotions.csv'\n",
        "\n",
        "# Load the data\n",
        "data = load_data(data_path)\n",
        "\n",
        "# Explore the data\n",
        "def explore_data(data):\n",
        "    \"\"\"Perform exploratory analysis on the dataset\"\"\"\n",
        "    print(\"\\n--- Data Overview ---\")\n",
        "    print(f\"Dataset shape: {data.shape}\")\n",
        "    print(\"\\nFirst few rows:\")\n",
        "    print(data.head())\n",
        "\n",
        "    print(\"\\n--- Emotion Distribution ---\")\n",
        "    emotion_counts = data['emotion'].value_counts()\n",
        "    print(emotion_counts)\n",
        "\n",
        "    # Visualize emotion distribution\n",
        "    plt.figure(figsize=(10, 6))\n",
        "    sns.barplot(x=emotion_counts.index, y=emotion_counts.values)\n",
        "    plt.title('Emotion Distribution in Dataset')\n",
        "    plt.xlabel('Emotion')\n",
        "    plt.ylabel('Count')\n",
        "    plt.xticks(rotation=45)\n",
        "    plt.tight_layout()\n",
        "    plt.savefig('/content/drive/My Drive/emotion_distribution.png')\n",
        "    plt.show()\n",
        "\n",
        "    # Text length analysis\n",
        "    data['text_length'] = data['text'].apply(len)\n",
        "\n",
        "    print(\"\\n--- Text Length Statistics ---\")\n",
        "    print(data['text_length'].describe())\n",
        "\n",
        "    plt.figure(figsize=(10, 6))\n",
        "    sns.boxplot(x='emotion', y='text_length', data=data)\n",
        "    plt.title('Text Length by Emotion')\n",
        "    plt.xlabel('Emotion')\n",
        "    plt.ylabel('Text Length (characters)')\n",
        "    plt.xticks(rotation=45)\n",
        "    plt.tight_layout()\n",
        "    plt.savefig('/content/drive/My Drive/text_length_by_emotion.png')\n",
        "    plt.show()\n",
        "\n",
        "    return emotion_counts\n",
        "\n",
        "emotion_counts = explore_data(data)"
      ],
      "metadata": {
        "id": "P4PIhekOTJwX",
        "colab": {
          "base_uri": "https://localhost:8080/",
          "height": 1000
        },
        "outputId": "ac667a6a-b103-443a-8040-fd4686658f1d"
      },
      "execution_count": 3,
      "outputs": [
        {
          "output_type": "stream",
          "name": "stdout",
          "text": [
            "Loading data from /content/drive/MyDrive/dataset/emotions.csv...\n",
            "\n",
            "--- Data Overview ---\n",
            "Dataset shape: (432809, 2)\n",
            "\n",
            "First few rows:\n",
            "                                                text  emotion\n",
            "0                            i didnt feel humiliated  sadness\n",
            "1  i can go from feeling so hopeless to so damned...  sadness\n",
            "2   im grabbing a minute to post i feel greedy wrong    anger\n",
            "3  i am ever feeling nostalgic about the fireplac...     love\n",
            "4                               i am feeling grouchy    anger\n",
            "\n",
            "--- Emotion Distribution ---\n",
            "emotion\n",
            "joy         146429\n",
            "sadness     125853\n",
            "anger        59476\n",
            "fear         49649\n",
            "love         35858\n",
            "surprise     15544\n",
            "Name: count, dtype: int64\n"
          ]
        },
        {
          "output_type": "display_data",
          "data": {
            "text/plain": [
              "<Figure size 1000x600 with 1 Axes>"
            ],
            "image/png": "[encoded data removed]"
          },
          "metadata": {}
        },
        {
          "output_type": "stream",
          "name": "stdout",
          "text": [
            "\n",
            "--- Text Length Statistics ---\n",
            "count    432809.000000\n",
            "mean         97.021647\n",
            "std          56.187363\n",
            "min           2.000000\n",
            "25%          54.000000\n",
            "50%          86.000000\n",
            "75%         128.000000\n",
            "max         830.000000\n",
            "Name: text_length, dtype: float64\n"
          ]
        },
        {
          "output_type": "display_data",
          "data": {
            "text/plain": [
              "<Figure size 1000x600 with 1 Axes>"
            ],
            "image/png": "[encoded data removed]"
          },
          "metadata": {}
        }
      ]
    },
    {
      "cell_type": "markdown",
      "source": [
        "# **4: Text Preprocessing**"
      ],
      "metadata": {
        "id": "oDPCDwPTTOV7"
      }
    },
    {
      "cell_type": "code",
      "source": [
        "# Enhanced text cleaning function\n",
        "def clean_text(text):\n",
        "    \"\"\"Clean text by removing special characters, extra spaces, and normalizing\"\"\"\n",
        "    if not isinstance(text, str):\n",
        "        text = str(text)\n",
        "\n",
        "    # Convert to lowercase\n",
        "    text = text.lower()\n",
        "\n",
        "    # Remove URLs\n",
        "    text = re.sub(r'https?://\\S+|www\\.\\S+', ' ', text)\n",
        "\n",
        "    # Remove HTML tags\n",
        "    text = re.sub(r'<.*?>', ' ', text)\n",
        "\n",
        "    # Remove emojis and special characters\n",
        "    text = re.sub(r'[^\\w\\s]', ' ', text)\n",
        "\n",
        "    # Remove numbers\n",
        "    text = re.sub(r'\\d+', ' ', text)\n",
        "\n",
        "    # Remove extra whitespace\n",
        "    text = re.sub(r'\\s+', ' ', text).strip()\n",
        "\n",
        "    return text\n",
        "\n",
        "# Enhanced text preprocessing function with caching\n",
        "lemmatizer = WordNetLemmatizer()\n",
        "eng_stopwords = set(stopwords.words('english'))\n",
        "preprocessing_cache = {}\n",
        "\n",
        "def preprocess_text(text):\n",
        "    \"\"\"Preprocess text with tokenization, stopword removal, and lemmatization with caching\"\"\"\n",
        "    if text in preprocessing_cache:\n",
        "        return preprocessing_cache[text]\n",
        "\n",
        "    text = clean_text(text)\n",
        "    tokens = word_tokenize(text)\n",
        "    tokens = [token for token in tokens if token not in eng_stopwords]\n",
        "    tokens = [lemmatizer.lemmatize(token) for token in tokens]\n",
        "    processed_text = ' '.join(tokens)\n",
        "    preprocessing_cache[text] = processed_text\n",
        "    return processed_text\n",
        "\n",
        "# Improved data preprocessing function\n",
        "def preprocess_data(data):\n",
        "    \"\"\"Apply preprocessing to the dataset with progress tracking\"\"\"\n",
        "    print(\"Preprocessing texts...\")\n",
        "    start_time = time.time()\n",
        "    data['processed_text'] = data['text'].apply(preprocess_text)\n",
        "    emotion_mapping = {emotion: i for i, emotion in enumerate(sorted(data['emotion'].unique()))}\n",
        "    data['emotion_id'] = data['emotion'].map(emotion_mapping)\n",
        "    end_time = time.time()\n",
        "    print(f\"Preprocessing completed in {end_time - start_time:.2f} seconds\")\n",
        "    print(f\"Vocabulary size (unique words): {len(set(' '.join(data['processed_text']).split()))}\")\n",
        "    return data, emotion_mapping\n",
        "\n",
        "# Preprocess the data\n",
        "data, emotion_mapping = preprocess_data(data)\n",
        "\n",
        "# Show preprocessing results\n",
        "print(\"\\nPreprocessing sample:\")\n",
        "sample_idx = np.random.randint(0, len(data))\n",
        "print(f\"Original: {data.iloc[sample_idx]['text']}\")\n",
        "print(f\"Processed: {data.iloc[sample_idx]['processed_text']}\")\n",
        "print(f\"Emotion: {data.iloc[sample_idx]['emotion']}\")"
      ],
      "metadata": {
        "id": "u_uh0fTVTQri",
        "colab": {
          "base_uri": "https://localhost:8080/"
        },
        "outputId": "7e8ae654-4828-4cc1-fbdf-8487971d97d1"
      },
      "execution_count": 4,
      "outputs": [
        {
          "output_type": "stream",
          "name": "stdout",
          "text": [
            "Preprocessing texts...\n",
            "Preprocessing completed in 78.36 seconds\n",
            "Vocabulary size (unique words): 67683\n",
            "\n",
            "Preprocessing sample:\n",
            "Original: im feeling the aching joints and learning to take the pills and wondering if side effects are coming\n",
            "Processed: im feeling aching joint learning take pill wondering side effect coming\n",
            "Emotion: sadness\n"
          ]
        }
      ]
    },
    {
      "cell_type": "markdown",
      "source": [
        "# **5: Model Building and Training**"
      ],
      "metadata": {
        "id": "rX9lwkSGTTQ_"
      }
    },
    {
      "cell_type": "code",
      "source": [
        "# Define model building function with hyperparameter tuning\n",
        "def build_model(data, emotion_mapping):\n",
        "    \"\"\"Build, train, and evaluate the emotion classification model with hyperparameter tuning\"\"\"\n",
        "    X_train, X_test, y_train, y_test = train_test_split(\n",
        "        data['processed_text'], data['emotion_id'],\n",
        "        test_size=0.2, random_state=42, stratify=data['emotion_id']\n",
        "    )\n",
        "\n",
        "    print(f\"Training set size: {len(X_train)}\")\n",
        "    print(f\"Test set size: {len(X_test)}\")\n",
        "\n",
        "    pipeline = Pipeline([\n",
        "        ('vectorizer', TfidfVectorizer()),\n",
        "        ('classifier', LogisticRegression())\n",
        "    ])\n",
        "\n",
        "    param_grid = {\n",
        "        'vectorizer__max_features': [5000, 10000],\n",
        "        'vectorizer__ngram_range': [(1, 2), (1, 3)],\n",
        "        'vectorizer__min_df': [2, 3],\n",
        "        'vectorizer__use_idf': [True],\n",
        "        'vectorizer__sublinear_tf': [True],\n",
        "        'classifier__C': [1, 10],\n",
        "        'classifier__max_iter': [1000],\n",
        "        'classifier__class_weight': ['balanced'],\n",
        "        'classifier__solver': ['saga'],\n",
        "        'classifier__multi_class': ['multinomial']\n",
        "    }\n",
        "\n",
        "    print(\"Performing grid search for hyperparameter tuning...\")\n",
        "    grid_search = GridSearchCV(\n",
        "        pipeline, param_grid, cv=3,\n",
        "        scoring='accuracy', verbose=1, n_jobs=-1\n",
        "    )\n",
        "\n",
        "    start_time = time.time()\n",
        "    grid_search.fit(X_train, y_train)\n",
        "    end_time = time.time()\n",
        "    print(f\"Model training completed in {end_time - start_time:.2f} seconds\")\n",
        "\n",
        "    best_model = grid_search.best_estimator_\n",
        "    print(f\"Best hyperparameters: {grid_search.best_params_}\")\n",
        "\n",
        "    print(\"Evaluating model on test set...\")\n",
        "    y_pred = best_model.predict(X_test)\n",
        "\n",
        "    id_to_emotion = {v: k for k, v in emotion_mapping.items()}\n",
        "    y_test_labels = [id_to_emotion[i] for i in y_test]\n",
        "    y_pred_labels = [id_to_emotion[i] for i in y_pred]\n",
        "\n",
        "    accuracy = accuracy_score(y_test_labels, y_pred_labels)\n",
        "    report = classification_report(y_test_labels, y_pred_labels)\n",
        "\n",
        "    print(f\"Test set accuracy: {accuracy:.4f}\")\n",
        "    print(\"\\nClassification Report:\")\n",
        "    print(report)\n",
        "\n",
        "    cm = confusion_matrix(y_test_labels, y_pred_labels, labels=sorted(data['emotion'].unique()))\n",
        "    plt.figure(figsize=(10, 8))\n",
        "    sns.heatmap(cm, annot=True, fmt='d', cmap='Blues',\n",
        "                xticklabels=sorted(data['emotion'].unique()),\n",
        "                yticklabels=sorted(data['emotion'].unique()))\n",
        "    plt.title('Confusion Matrix')\n",
        "    plt.ylabel('True Emotion')\n",
        "    plt.xlabel('Predicted Emotion')\n",
        "    plt.tight_layout()\n",
        "    plt.savefig('/content/drive/My Drive/confusion_matrix.png')\n",
        "    plt.show()\n",
        "\n",
        "    return best_model, X_test, y_test, y_test_labels, y_pred_labels, report\n",
        "\n",
        "# Build and train the model\n",
        "model, X_test, y_test, y_test_labels, y_pred_labels, classification_report_text = build_model(data, emotion_mapping)"
      ],
      "metadata": {
        "id": "VlHaYARGTXqZ",
        "colab": {
          "base_uri": "https://localhost:8080/",
          "height": 1000
        },
        "outputId": "6d22c880-7ae4-463e-db0e-40315fb70d91"
      },
      "execution_count": 5,
      "outputs": [
        {
          "output_type": "stream",
          "name": "stdout",
          "text": [
            "Training set size: 346247\n",
            "Test set size: 86562\n",
            "Performing grid search for hyperparameter tuning...\n",
            "Fitting 3 folds for each of 16 candidates, totalling 48 fits\n"
          ]
        },
        {
          "output_type": "stream",
          "name": "stderr",
          "text": [
            "/usr/local/lib/python3.11/dist-packages/sklearn/linear_model/_logistic.py:1247: FutureWarning: 'multi_class' was deprecated in version 1.5 and will be removed in 1.7. From then on, it will always use 'multinomial'. Leave it to its default value to avoid this warning.\n",
            "  warnings.warn(\n",
            "/usr/local/lib/python3.11/dist-packages/sklearn/linear_model/_sag.py:348: ConvergenceWarning: The max_iter was reached which means the coef_ did not converge\n",
            "  warnings.warn(\n"
          ]
        },
        {
          "output_type": "stream",
          "name": "stdout",
          "text": [
            "Model training completed in 11247.36 seconds\n",
            "Best hyperparameters: {'classifier__C': 1, 'classifier__class_weight': 'balanced', 'classifier__max_iter': 1000, 'classifier__multi_class': 'multinomial', 'classifier__solver': 'saga', 'vectorizer__max_features': 10000, 'vectorizer__min_df': 2, 'vectorizer__ngram_range': (1, 3), 'vectorizer__sublinear_tf': True, 'vectorizer__use_idf': True}\n",
            "Evaluating model on test set...\n",
            "Test set accuracy: 0.9151\n",
            "\n",
            "Classification Report:\n",
            "              precision    recall  f1-score   support\n",
            "\n",
            "       anger       0.89      0.96      0.92     11895\n",
            "        fear       0.90      0.83      0.86      9930\n",
            "         joy       0.98      0.90      0.94     29286\n",
            "        love       0.74      0.96      0.84      7171\n",
            "     sadness       0.97      0.94      0.95     25171\n",
            "    surprise       0.69      0.94      0.79      3109\n",
            "\n",
            "    accuracy                           0.92     86562\n",
            "   macro avg       0.86      0.92      0.88     86562\n",
            "weighted avg       0.93      0.92      0.92     86562\n",
            "\n"
          ]
        },
        {
          "output_type": "display_data",
          "data": {
            "text/plain": [
              "<Figure size 1000x800 with 2 Axes>"
            ],
            "image/png": "[encoded data removed]"
          },
          "metadata": {}
        }
      ]
    },
    {
      "cell_type": "markdown",
      "source": [
        "# **6: Error Analysis**"
      ],
      "metadata": {
        "id": "tpzE6WbcTaJO"
      }
    },
    {
      "cell_type": "code",
      "source": [
        "def analyze_errors(X_test, y_test_labels, y_pred_labels, model, emotion_mapping):\n",
        "    \"\"\"Perform detailed error analysis\"\"\"\n",
        "    misclassified_indices = [i for i, (y_true, y_pred) in enumerate(zip(y_test_labels, y_pred_labels)) if y_true != y_pred]\n",
        "\n",
        "    if not misclassified_indices:\n",
        "        print(\"No misclassifications found!\")\n",
        "        return\n",
        "\n",
        "    X_test_series = pd.Series(X_test.values)\n",
        "    sample_size = min(10, len(misclassified_indices))\n",
        "    sampled_indices = np.random.choice(misclassified_indices, sample_size, replace=False)\n",
        "\n",
        "    error_df = pd.DataFrame({\n",
        "        'Text': [X_test_series.iloc[idx] for idx in sampled_indices],\n",
        "        'True_Emotion': [y_test_labels[idx] for idx in sampled_indices],\n",
        "        'Predicted_Emotion': [y_pred_labels[idx] for idx in sampled_indices]\n",
        "    })\n",
        "\n",
        "    id_to_emotion = {v: k for k, v in emotion_mapping.items()}\n",
        "    for idx, row_idx in enumerate(sampled_indices):\n",
        "        text = X_test_series.iloc[row_idx]\n",
        "        probs = model.predict_proba([text])[0]\n",
        "        emotion_probs = {id_to_emotion[i]: prob for i, prob in enumerate(probs)}\n",
        "        top_emotions = sorted(emotion_probs.items(), key=lambda x: x[1], reverse=True)[:3]\n",
        "        for i, (emotion, prob) in enumerate(top_emotions):\n",
        "            error_df.at[idx, f'Top{i+1}'] = emotion\n",
        "            error_df.at[idx, f'Prob{i+1}'] = f\"{prob:.3f}\"\n",
        "\n",
        "    print(\"\\n--- Error Analysis ---\")\n",
        "    print(f\"Total misclassifications: {len(misclassified_indices)} out of {len(y_test_labels)} ({len(misclassified_indices)/len(y_test_labels)*100:.2f}%)\")\n",
        "\n",
        "    confusion_pairs = {}\n",
        "    for idx in misclassified_indices:\n",
        "        pair = (y_test_labels[idx], y_pred_labels[idx])\n",
        "        confusion_pairs[pair] = confusion_pairs.get(pair, 0) + 1\n",
        "\n",
        "    print(\"\\nTop confusion pairs (True -> Predicted):\")\n",
        "    for (true, pred), count in sorted(confusion_pairs.items(), key=lambda x: x[1], reverse=True)[:5]:\n",
        "        print(f\"  {true} -> {pred}: {count} instances\")\n",
        "\n",
        "    print(\"\\nSample of misclassified texts:\")\n",
        "    for _, row in error_df.iterrows():\n",
        "        print(f\"\\nText: {row['Text']}\")\n",
        "        print(f\"True emotion: {row['True_Emotion']}\")\n",
        "        print(f\"Predicted emotion: {row['Predicted_Emotion']} (confidence: {row['Prob1']})\")\n",
        "        print(f\"Top alternatives: {row['Top2']} ({row['Prob2']}), {row['Top3']} ({row['Prob3']})\")\n",
        "        print(\"-\" * 50)\n",
        "\n",
        "    error_df.to_csv('/content/drive/My Drive/error_analysis.csv', index=False)\n",
        "    print(\"Error analysis saved to Google Drive as 'error_analysis.csv'\")\n",
        "\n",
        "# Run error analysis\n",
        "analyze_errors(X_test, y_test_labels, y_pred_labels, model, emotion_mapping)"
      ],
      "metadata": {
        "id": "GdHRAc4tTb81",
        "colab": {
          "base_uri": "https://localhost:8080/"
        },
        "outputId": "6095011b-f22a-4cb3-a469-5e6fecf89184"
      },
      "execution_count": 6,
      "outputs": [
        {
          "output_type": "stream",
          "name": "stdout",
          "text": [
            "\n",
            "--- Error Analysis ---\n",
            "Total misclassifications: 7348 out of 86562 (8.49%)\n",
            "\n",
            "Top confusion pairs (True -> Predicted):\n",
            "  joy -> love: 2163 instances\n",
            "  fear -> surprise: 833 instances\n",
            "  sadness -> anger: 755 instances\n",
            "  fear -> anger: 471 instances\n",
            "  sadness -> fear: 408 instances\n",
            "\n",
            "Sample of misclassified texts:\n",
            "\n",
            "Text: validated must feel strange likely way feel\n",
            "True emotion: fear\n",
            "Predicted emotion: surprise (confidence: 0.929)\n",
            "Top alternatives: fear (0.068), joy (0.002)\n",
            "--------------------------------------------------\n",
            "\n",
            "Text: really feel dont know faithful\n",
            "True emotion: joy\n",
            "Predicted emotion: love (confidence: 0.873)\n",
            "Top alternatives: joy (0.120), sadness (0.003)\n",
            "--------------------------------------------------\n",
            "\n",
            "Text: super excited leaving cause feel like everyone cousin knew much hated\n",
            "True emotion: sadness\n",
            "Predicted emotion: anger (confidence: 0.435)\n",
            "Top alternatives: sadness (0.319), joy (0.208)\n",
            "--------------------------------------------------\n",
            "\n",
            "Text: always feel hated nothing control always want control thinking fault im hated\n",
            "True emotion: sadness\n",
            "Predicted emotion: anger (confidence: 0.829)\n",
            "Top alternatives: sadness (0.169), joy (0.001)\n",
            "--------------------------------------------------\n",
            "\n",
            "Text: would go numb feel agitated humanness mine could watch tv\n",
            "True emotion: fear\n",
            "Predicted emotion: anger (confidence: 0.807)\n",
            "Top alternatives: fear (0.149), sadness (0.041)\n",
            "--------------------------------------------------\n",
            "\n",
            "Text: attacked teenage boy wallet stolen\n",
            "True emotion: fear\n",
            "Predicted emotion: anger (confidence: 0.692)\n",
            "Top alternatives: fear (0.119), joy (0.077)\n",
            "--------------------------------------------------\n",
            "\n",
            "Text: knew nineteen year since last movie indiana jones last crusade feeling lucas spielberg going try make movie would satisfy faithful attract whole new fan base well\n",
            "True emotion: joy\n",
            "Predicted emotion: love (confidence: 0.704)\n",
            "Top alternatives: joy (0.239), sadness (0.025)\n",
            "--------------------------------------------------\n",
            "\n",
            "Text: enjoy freedom making decision enjoy feeling supporting enjoy feeling accomplishing thing within hobby\n",
            "True emotion: love\n",
            "Predicted emotion: joy (confidence: 0.591)\n",
            "Top alternatives: love (0.379), sadness (0.016)\n",
            "--------------------------------------------------\n",
            "\n",
            "Text: im going motion feeling exhausted frustrated irritable\n",
            "True emotion: sadness\n",
            "Predicted emotion: anger (confidence: 0.945)\n",
            "Top alternatives: sadness (0.054), fear (0.000)\n",
            "--------------------------------------------------\n",
            "\n",
            "Text: feeling pretty stressed work school needed talk someone\n",
            "True emotion: sadness\n",
            "Predicted emotion: anger (confidence: 0.708)\n",
            "Top alternatives: sadness (0.246), joy (0.024)\n",
            "--------------------------------------------------\n",
            "Error analysis saved to Google Drive as 'error_analysis.csv'\n"
          ]
        }
      ]
    },
    {
      "cell_type": "markdown",
      "source": [
        "# **7: Save Model and Results**"
      ],
      "metadata": {
        "id": "c8n30rf7TiOJ"
      }
    },
    {
      "cell_type": "code",
      "source": [
        "def save_model(model, emotion_mapping, model_path, mapping_path, report, report_path):\n",
        "    \"\"\"Save the trained model, emotion mapping, and classification report with versioning\"\"\"\n",
        "    try:\n",
        "        os.makedirs(os.path.dirname(model_path), exist_ok=True)\n",
        "        timestamp = time.strftime(\"%Y%m%d_%H%M%S\")\n",
        "        model_path = model_path.replace('.pkl', f'_{timestamp}.pkl')\n",
        "        mapping_path = mapping_path.replace('.pkl', f'_{timestamp}.pkl')\n",
        "        report_path = report_path.replace('.txt', f'_{timestamp}.txt')\n",
        "\n",
        "        with open(model_path, 'wb') as f:\n",
        "            pickle.dump(model, f)\n",
        "        with open(mapping_path, 'wb') as f:\n",
        "            pickle.dump(emotion_mapping, f)\n",
        "        with open(report_path, 'w') as f:\n",
        "            f.write(report)\n",
        "\n",
        "        print(f\"Model saved to {model_path}\")\n",
        "        print(f\"Emotion mapping saved to {mapping_path}\")\n",
        "        print(f\"Classification report saved to {report_path}\")\n",
        "        return model_path, mapping_path, report_path\n",
        "\n",
        "    except Exception as e:\n",
        "        print(f\"Error saving model: {str(e)}\")\n",
        "        raise\n",
        "\n",
        "# Define paths for saving\n",
        "model_path = '/content/drive/My Drive/emotion_model.pkl'\n",
        "mapping_path = '/content/drive/My Drive/emotion_mapping.pkl'\n",
        "report_path = '/content/drive/My Drive/classification_report.txt'\n",
        "\n",
        "# Save everything\n",
        "saved_model_path, saved_mapping_path, saved_report_path = save_model(\n",
        "    model, emotion_mapping, model_path, mapping_path, classification_report_text, report_path\n",
        ")"
      ],
      "metadata": {
        "id": "YOylepgLTjw3",
        "colab": {
          "base_uri": "https://localhost:8080/"
        },
        "outputId": "60c22e22-b66a-490f-fbc5-962efc0c51f9"
      },
      "execution_count": 7,
      "outputs": [
        {
          "output_type": "stream",
          "name": "stdout",
          "text": [
            "Model saved to /content/drive/My Drive/emotion_model_20250404_185408.pkl\n",
            "Emotion mapping saved to /content/drive/My Drive/emotion_mapping_20250404_185408.pkl\n",
            "Classification report saved to /content/drive/My Drive/classification_report_20250404_185408.txt\n"
          ]
        }
      ]
    },
    {
      "cell_type": "markdown",
      "source": [
        "# **8: Prediction Function and Testing**"
      ],
      "metadata": {
        "id": "zsSdPx-ATlWN"
      }
    },
    {
      "cell_type": "code",
      "source": [
        "class EmotionPredictor:\n",
        "    \"\"\"A class for making emotion predictions with confidence scores\"\"\"\n",
        "    def __init__(self, model, emotion_mapping):\n",
        "        self.model = model\n",
        "        self.emotion_mapping = emotion_mapping\n",
        "        self.id_to_emotion = {v: k for k, v in emotion_mapping.items()}\n",
        "\n",
        "    def predict(self, text):\n",
        "        \"\"\"Predict emotion from text\"\"\"\n",
        "        processed_text = preprocess_text(text)\n",
        "        emotion_id = self.model.predict([processed_text])[0]\n",
        "        emotion = self.id_to_emotion[emotion_id]\n",
        "        probs = self.model.predict_proba([processed_text])[0]\n",
        "        emotion_probs = {self.id_to_emotion[i]: prob for i, prob in enumerate(probs)}\n",
        "        sorted_probs = sorted(emotion_probs.items(), key=lambda x: x[1], reverse=True)\n",
        "        confidence = emotion_probs[emotion]\n",
        "        margin = confidence - sorted_probs[1][1] if len(sorted_probs) > 1 else confidence\n",
        "        return {\n",
        "            'emotion': emotion,\n",
        "            'confidence': confidence,\n",
        "            'margin': margin,\n",
        "            'probabilities': emotion_probs,\n",
        "            'processed_text': processed_text\n",
        "        }\n",
        "\n",
        "    def predict_batch(self, texts):\n",
        "        \"\"\"Process a batch of texts and predict emotions\"\"\"\n",
        "        results = []\n",
        "        for text in texts:\n",
        "            if text:\n",
        "                result = self.predict(text)\n",
        "                result['text'] = text\n",
        "                results.append(result)\n",
        "        return results\n",
        "\n",
        "    def predict_from_file(self, file_path):\n",
        "        \"\"\"Process a file with multiple text samples\"\"\"\n",
        "        texts = []\n",
        "        try:\n",
        "            if file_path.endswith('.csv'):\n",
        "                df = pd.read_csv(file_path)\n",
        "                if 'text' in df.columns:\n",
        "                    texts = df['text'].tolist()\n",
        "                else:\n",
        "                    texts = df.iloc[:, 0].tolist()\n",
        "            else:\n",
        "                with open(file_path, 'r', encoding='utf-8') as file:\n",
        "                    texts = [line.strip() for line in file if line.strip()]\n",
        "        except Exception as e:\n",
        "            print(f\"Error reading file: {str(e)}\")\n",
        "            return []\n",
        "        return self.predict_batch(texts)\n",
        "\n",
        "# Create predictor\n",
        "predictor = EmotionPredictor(model, emotion_mapping)\n",
        "\n",
        "# Test with a file\n",
        "file_path = \"/content/drive/MyDrive/dataset/test.csv\"\n",
        "\n",
        "try:\n",
        "    print(f\"\\nProcessing samples from {file_path}...\")\n",
        "    results = predictor.predict_from_file(file_path)\n",
        "    print(f\"Processed {len(results)} samples from file:\")\n",
        "\n",
        "    results_df = pd.DataFrame(results)\n",
        "    results_df['top_emotions'] = results_df['probabilities'].apply(\n",
        "        lambda x: ', '.join([f\"{e}: {p:.3f}\" for e, p in sorted(x.items(), key=lambda i: i[1], reverse=True)[:3]])\n",
        "    )\n",
        "\n",
        "    display_df = results_df[['text', 'emotion', 'confidence', 'top_emotions']]\n",
        "\n",
        "    for i, row in display_df.head(5).iterrows():\n",
        "        print(f\"\\nSample {i+1}:\")\n",
        "        print(f\"Text: {row['text']}\")\n",
        "        print(f\"Predicted emotion: {row['emotion']} (confidence: {row['confidence']:.3f})\")\n",
        "        print(f\"Top emotions: {row['top_emotions']}\")\n",
        "\n",
        "    results_path = '/content/drive/My Drive/prediction_results.csv'\n",
        "    display_df.to_csv(results_path, index=False)\n",
        "    print(f\"\\nAll results saved to {results_path}\")\n",
        "\n",
        "except Exception as e:\n",
        "    print(f\"Error during prediction: {str(e)}\")\n",
        "\n",
        "print(\"\\nEmotion classification pipeline completed successfully!\")"
      ],
      "metadata": {
        "id": "803IVO6vTonq",
        "colab": {
          "base_uri": "https://localhost:8080/"
        },
        "outputId": "ee059343-16cd-4486-f756-64c9b8d64b31"
      },
      "execution_count": 8,
      "outputs": [
        {
          "output_type": "stream",
          "name": "stdout",
          "text": [
            "\n",
            "Processing samples from /content/drive/MyDrive/dataset/test.csv...\n",
            "Processed 1999 samples from file:\n",
            "\n",
            "Sample 1:\n",
            "Text: im updating my blog because i feel shitty\n",
            "Predicted emotion: sadness (confidence: 0.995)\n",
            "Top emotions: sadness: 0.995, joy: 0.002, anger: 0.001\n",
            "\n",
            "Sample 2:\n",
            "Text: i never make her separate from me because i don t ever want her to feel like i m ashamed with her\n",
            "Predicted emotion: sadness (confidence: 0.771)\n",
            "Top emotions: sadness: 0.771, joy: 0.123, anger: 0.054\n",
            "\n",
            "Sample 3:\n",
            "Text: i left with my bouquet of red and yellow tulips under my arm feeling slightly more optimistic than when i arrived\n",
            "Predicted emotion: joy (confidence: 0.854)\n",
            "Top emotions: joy: 0.854, sadness: 0.053, anger: 0.048\n",
            "\n",
            "Sample 4:\n",
            "Text: i was feeling a little vain when i did this one\n",
            "Predicted emotion: sadness (confidence: 1.000)\n",
            "Top emotions: sadness: 1.000, fear: 0.000, joy: 0.000\n",
            "\n",
            "Sample 5:\n",
            "Text: i cant walk into a shop anywhere where i do not feel uncomfortable\n",
            "Predicted emotion: fear (confidence: 0.997)\n",
            "Top emotions: fear: 0.997, joy: 0.001, anger: 0.001\n",
            "\n",
            "All results saved to /content/drive/My Drive/prediction_results.csv\n",
            "\n",
            "Emotion classification pipeline completed successfully!\n"
          ]
        }
      ]
    }
  ]
}